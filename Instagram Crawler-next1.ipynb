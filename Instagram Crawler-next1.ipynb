{
 "cells": [
  {
   "cell_type": "markdown",
   "metadata": {},
   "source": [
    "# Global Variable"
   ]
  },
  {
   "cell_type": "code",
   "execution_count": 50,
   "metadata": {
    "collapsed": true
   },
   "outputs": [],
   "source": [
    "data = {} # Dictionary object\n",
    "count = 0 # number of posts\n",
    "date = '8.8.2017'\n",
    "username = \"\"\n",
    "url = \"\"\n",
    "comment = \"\"\n",
    "postList = [] # [{\"URL\": url , \"Comm\" : comment}]\n",
    "# Users : {username: [{\"URL\": url , \"Comm\" : comment}]}\n",
    "data = {'Count': count, 'Date': date, 'Users': {}}"
   ]
  },
  {
   "cell_type": "code",
   "execution_count": 51,
   "metadata": {
    "collapsed": true,
    "scrolled": true
   },
   "outputs": [],
   "source": [
    "import selenium.webdriver as webdriver\n",
    "import time\n",
    "import codecs\n",
    "import json\n",
    "\n",
    "# Instagram as location result, **not hashtag**\n",
    "# filename = \"garosu_postcount3a.txt\"\n",
    "# url = 'http://www.instagram.com/explore/locations/266779631/' # @가로수길0\n",
    "\n",
    "filename = \"garosu_.txt\"\n",
    "location = 'http://www.instagram.com/explore/locations/698628497/' # @가로수길1 this is it\n",
    "# url = 'https://www.instagram.com/explore/locations/266779631/' And This Too.\n",
    "\n",
    "# url = 'https://www.instagram.com/explore/locations/219016505/sinsa-station/'# @가로수길2\n",
    "# url = 'https://www.instagram.com/explore/tags/%EA%B0%80%EB%A1%9C%EC%88%98%EA%B8%B8/'\n",
    "\n",
    "# url = \"https://www.instagram.com/explore/locations/215188434/\" # 강남역\n",
    "# filename = \"gangnam_postcount4.txt\"\n",
    "# url = \"https://www.instagram.com/explore/locations/214082506/gangnam-station/\" # 강남역 this is it\n",
    "\n",
    "# url = 'https://www.instagram.com/explore/locations/1009765122/' #이태원0\n",
    "# filename = \"itae_postcount6.txt\"\n",
    "# url = 'https://www.instagram.com/explore/locations/220945406/itaewon/' #이태원1 this is it\n",
    "# url = 'https://www.instagram.com/erin._.hi/'\n",
    "\n",
    "options = webdriver.ChromeOptions()\n",
    "options.add_argument('headless')\n",
    "driver = webdriver.Chrome(chrome_options=options)\n",
    "driver.get(location)"
   ]
  },
  {
   "cell_type": "code",
   "execution_count": 52,
   "metadata": {
    "collapsed": true
   },
   "outputs": [],
   "source": [
    "# f = codecs.open(filename, \"w\", encoding='utf-8')"
   ]
  },
  {
   "cell_type": "markdown",
   "metadata": {},
   "source": [
    "# Click on the first post in the \"Recent\" Section"
   ]
  },
  {
   "cell_type": "code",
   "execution_count": 53,
   "metadata": {
    "collapsed": false
   },
   "outputs": [],
   "source": [
    "clickin = driver.find_elements_by_class_name('_mck9w')\n",
    "\n",
    "clickin[0].click()\n",
    "time.sleep(3.8)"
   ]
  },
  {
   "cell_type": "markdown",
   "metadata": {},
   "source": [
    "# Click through the posts, and iterate scraping"
   ]
  },
  {
   "cell_type": "code",
   "execution_count": 54,
   "metadata": {
    "collapsed": false,
    "scrolled": false
   },
   "outputs": [
    {
     "name": "stdout",
     "output_type": "stream",
     "text": [
      "0\n",
      "URL: BX2jioaFaRE\n",
      "Time: Aug 16, 2017\n",
      "1\n",
      "URL: BX2h3_ngMyO\n",
      "Time: Aug 16, 2017\n",
      "2\n",
      "URL: BX25aipAi36\n",
      "Time: Aug 16, 2017\n",
      "3\n",
      "URL: BXzDvflnSHU\n",
      "Time: Aug 16, 2017\n",
      "4\n",
      "URL: BXzwcaQgGV1\n",
      "Time: Aug 15, 2017\n",
      "5\n",
      "URL: BXzwcaQgGV1\n",
      "Time: Aug 15, 2017\n",
      "6\n",
      "URL: BXzwcaQgGV1\n",
      "Time: Aug 15, 2017\n",
      "7\n",
      "URL: BXzwcaQgGV1\n",
      "Time: Aug 15, 2017\n",
      "8\n",
      "URL: BXzwcaQgGV1\n",
      "Time: Aug 15, 2017\n",
      "9\n",
      "URL: BXzwcaQgGV1\n",
      "Time: Aug 15, 2017\n",
      "10\n",
      "URL: BX2nnXgjT45\n",
      "Time: Aug 15, 2017\n",
      "11\n",
      "URL: BX2S808lVGR\n",
      "Time: Aug 16, 2017\n",
      "12\n",
      "URL: BXxxo6Zl_4m\n",
      "Time: Aug 16, 2017\n",
      "13\n",
      "URL: BXu4UG_lIhf\n",
      "Time: Aug 14, 2017\n",
      "14\n",
      "URL: BX4ELLAlyXK\n",
      "Time: Aug 13, 2017\n",
      "15\n",
      "URL: BX4DJ5AH2Aj\n",
      "Time: Aug 17, 2017\n",
      "16\n",
      "URL: BX4CAp3Ff31\n",
      "Time: Aug 17, 2017\n",
      "17\n",
      "URL: BX4AjXzn5pk\n",
      "Time: Aug 17, 2017\n",
      "18\n",
      "URL: BX3_K4-DNbd\n",
      "Time: Aug 17, 2017\n",
      "19\n",
      "URL: BX3-ZqrAZod\n",
      "Time: Aug 17, 2017\n",
      "20\n",
      "URL: BX3-QwCAeQV\n",
      "Time: Aug 17, 2017\n",
      "21\n",
      "URL: BX39WAnA4Wf\n",
      "Time: Aug 17, 2017\n",
      "22\n",
      "URL: BX38yZdDi92\n",
      "Time: Aug 17, 2017\n",
      "23\n",
      "URL: BX36hnpHopM\n",
      "Time: Aug 17, 2017\n",
      "24\n",
      "URL: BX350mGlOLP\n",
      "Time: Aug 17, 2017\n",
      "25\n",
      "URL: BX35atfhYdc\n",
      "Time: Aug 17, 2017\n",
      "26\n",
      "URL: BX35aJunilN\n",
      "Time: Aug 17, 2017\n",
      "27\n",
      "URL: BX34rgeg2JW\n",
      "Time: Aug 17, 2017\n",
      "28\n",
      "URL: BX33UgTAsHr\n",
      "Time: Aug 17, 2017\n",
      "29\n",
      "URL: BX32Oi8jKoW\n",
      "Time: Aug 17, 2017\n",
      "30\n",
      "URL: BX30GsiF0n0\n",
      "Time: Aug 17, 2017\n",
      "31\n",
      "URL: BX3yXf1FXvQ\n",
      "Time: Aug 17, 2017\n",
      "32\n",
      "URL: BX3tE8Ojp3K\n",
      "Time: Aug 17, 2017\n",
      "33\n",
      "URL: BX3r9_jBCKm\n",
      "Time: Aug 17, 2017\n",
      "34\n",
      "URL: BX3rEFHH-Bz\n",
      "Time: Aug 17, 2017\n",
      "35\n",
      "URL: BX3o7p9ntmR\n",
      "Time: Aug 17, 2017\n",
      "36\n",
      "URL: BX3mnngnL7m\n",
      "Time: Aug 17, 2017\n",
      "37\n",
      "URL: BX3Zam1B1G_\n",
      "Time: Aug 17, 2017\n",
      "38\n",
      "URL: BX3YJz4lKoq\n",
      "Time: Aug 17, 2017\n",
      "39\n",
      "URL: BX3XHWlByio\n",
      "Time: Aug 17, 2017\n",
      "40\n",
      "URL: BX3Wn0hBAb1\n",
      "Time: Aug 17, 2017\n",
      "41\n",
      "URL: BX3Wft0BIRM\n",
      "Time: Aug 17, 2017\n",
      "42\n",
      "URL: BX3UWUthXrY\n",
      "Time: Aug 17, 2017\n",
      "43\n",
      "URL: BX3UT55AYiJ\n",
      "Time: Aug 17, 2017\n",
      "44\n",
      "URL: BX3ThoyhkO4\n",
      "Time: Aug 17, 2017\n",
      "45\n",
      "URL: BX3TajhHAOQ\n",
      "Time: Aug 17, 2017\n",
      "46\n",
      "URL: BX3SY-cl7Hq\n",
      "Time: Aug 17, 2017\n",
      "47\n",
      "URL: BX3SQcZDvQF\n",
      "Time: Aug 17, 2017\n",
      "48\n",
      "URL: BX3RMujle2n\n",
      "Time: Aug 17, 2017\n",
      "49\n",
      "URL: BX3Q0LpH6vG\n",
      "Time: Aug 17, 2017\n",
      "50\n",
      "URL: BX3P_SelMWX\n",
      "Time: Aug 17, 2017\n",
      "51\n",
      "URL: BX3PHF4lT0E\n",
      "Time: Aug 17, 2017\n",
      "52\n",
      "URL: BX3PBf8F_aH\n",
      "Time: Aug 17, 2017\n",
      "53\n",
      "URL: BX3O3JkBtOf\n",
      "Time: Aug 17, 2017\n",
      "54\n",
      "URL: BX3OSVKAe0u\n",
      "Time: Aug 17, 2017\n",
      "55\n",
      "URL: BX3Nvf-lkrj\n",
      "Time: Aug 17, 2017\n"
     ]
    },
    {
     "ename": "KeyboardInterrupt",
     "evalue": "",
     "output_type": "error",
     "traceback": [
      "\u001b[0;31m---------------------------------------------------------------------------\u001b[0m",
      "\u001b[0;31mKeyboardInterrupt\u001b[0m                         Traceback (most recent call last)",
      "\u001b[0;32m<ipython-input-54-83270281d194>\u001b[0m in \u001b[0;36m<module>\u001b[0;34m()\u001b[0m\n\u001b[1;32m     45\u001b[0m     \u001b[0moldURL\u001b[0m \u001b[0;34m=\u001b[0m \u001b[0mnewURL\u001b[0m\u001b[0;34m\u001b[0m\u001b[0m\n\u001b[1;32m     46\u001b[0m     \u001b[0;31m# Click Next\u001b[0m\u001b[0;34m\u001b[0m\u001b[0;34m\u001b[0m\u001b[0m\n\u001b[0;32m---> 47\u001b[0;31m     \u001b[0mdriver\u001b[0m\u001b[0;34m.\u001b[0m\u001b[0mfind_element_by_class_name\u001b[0m\u001b[0;34m(\u001b[0m\u001b[0;34m'_3a693'\u001b[0m\u001b[0;34m)\u001b[0m\u001b[0;34m.\u001b[0m\u001b[0mclick\u001b[0m\u001b[0;34m(\u001b[0m\u001b[0;34m)\u001b[0m \u001b[0;31m# Click Next Button\u001b[0m\u001b[0;34m\u001b[0m\u001b[0m\n\u001b[0m\u001b[1;32m     48\u001b[0m \u001b[0;34m\u001b[0m\u001b[0m\n\u001b[1;32m     49\u001b[0m \u001b[0mdata\u001b[0m\u001b[0;34m[\u001b[0m\u001b[0;34m'Count'\u001b[0m\u001b[0;34m]\u001b[0m \u001b[0;34m=\u001b[0m \u001b[0mcount\u001b[0m\u001b[0;34m\u001b[0m\u001b[0m\n",
      "\u001b[0;32m/Users/ethanseo/anaconda/lib/python3.6/site-packages/selenium/webdriver/remote/webelement.py\u001b[0m in \u001b[0;36mclick\u001b[0;34m(self)\u001b[0m\n\u001b[1;32m     75\u001b[0m     \u001b[0;32mdef\u001b[0m \u001b[0mclick\u001b[0m\u001b[0;34m(\u001b[0m\u001b[0mself\u001b[0m\u001b[0;34m)\u001b[0m\u001b[0;34m:\u001b[0m\u001b[0;34m\u001b[0m\u001b[0m\n\u001b[1;32m     76\u001b[0m         \u001b[0;34m\"\"\"Clicks the element.\"\"\"\u001b[0m\u001b[0;34m\u001b[0m\u001b[0m\n\u001b[0;32m---> 77\u001b[0;31m         \u001b[0mself\u001b[0m\u001b[0;34m.\u001b[0m\u001b[0m_execute\u001b[0m\u001b[0;34m(\u001b[0m\u001b[0mCommand\u001b[0m\u001b[0;34m.\u001b[0m\u001b[0mCLICK_ELEMENT\u001b[0m\u001b[0;34m)\u001b[0m\u001b[0;34m\u001b[0m\u001b[0m\n\u001b[0m\u001b[1;32m     78\u001b[0m \u001b[0;34m\u001b[0m\u001b[0m\n\u001b[1;32m     79\u001b[0m     \u001b[0;32mdef\u001b[0m \u001b[0msubmit\u001b[0m\u001b[0;34m(\u001b[0m\u001b[0mself\u001b[0m\u001b[0;34m)\u001b[0m\u001b[0;34m:\u001b[0m\u001b[0;34m\u001b[0m\u001b[0m\n",
      "\u001b[0;32m/Users/ethanseo/anaconda/lib/python3.6/site-packages/selenium/webdriver/remote/webelement.py\u001b[0m in \u001b[0;36m_execute\u001b[0;34m(self, command, params)\u001b[0m\n\u001b[1;32m    491\u001b[0m             \u001b[0mparams\u001b[0m \u001b[0;34m=\u001b[0m \u001b[0;34m{\u001b[0m\u001b[0;34m}\u001b[0m\u001b[0;34m\u001b[0m\u001b[0m\n\u001b[1;32m    492\u001b[0m         \u001b[0mparams\u001b[0m\u001b[0;34m[\u001b[0m\u001b[0;34m'id'\u001b[0m\u001b[0;34m]\u001b[0m \u001b[0;34m=\u001b[0m \u001b[0mself\u001b[0m\u001b[0;34m.\u001b[0m\u001b[0m_id\u001b[0m\u001b[0;34m\u001b[0m\u001b[0m\n\u001b[0;32m--> 493\u001b[0;31m         \u001b[0;32mreturn\u001b[0m \u001b[0mself\u001b[0m\u001b[0;34m.\u001b[0m\u001b[0m_parent\u001b[0m\u001b[0;34m.\u001b[0m\u001b[0mexecute\u001b[0m\u001b[0;34m(\u001b[0m\u001b[0mcommand\u001b[0m\u001b[0;34m,\u001b[0m \u001b[0mparams\u001b[0m\u001b[0;34m)\u001b[0m\u001b[0;34m\u001b[0m\u001b[0m\n\u001b[0m\u001b[1;32m    494\u001b[0m \u001b[0;34m\u001b[0m\u001b[0m\n\u001b[1;32m    495\u001b[0m     \u001b[0;32mdef\u001b[0m \u001b[0mfind_element\u001b[0m\u001b[0;34m(\u001b[0m\u001b[0mself\u001b[0m\u001b[0;34m,\u001b[0m \u001b[0mby\u001b[0m\u001b[0;34m=\u001b[0m\u001b[0mBy\u001b[0m\u001b[0;34m.\u001b[0m\u001b[0mID\u001b[0m\u001b[0;34m,\u001b[0m \u001b[0mvalue\u001b[0m\u001b[0;34m=\u001b[0m\u001b[0;32mNone\u001b[0m\u001b[0;34m)\u001b[0m\u001b[0;34m:\u001b[0m\u001b[0;34m\u001b[0m\u001b[0m\n",
      "\u001b[0;32m/Users/ethanseo/anaconda/lib/python3.6/site-packages/selenium/webdriver/remote/webdriver.py\u001b[0m in \u001b[0;36mexecute\u001b[0;34m(self, driver_command, params)\u001b[0m\n\u001b[1;32m    252\u001b[0m \u001b[0;34m\u001b[0m\u001b[0m\n\u001b[1;32m    253\u001b[0m         \u001b[0mparams\u001b[0m \u001b[0;34m=\u001b[0m \u001b[0mself\u001b[0m\u001b[0;34m.\u001b[0m\u001b[0m_wrap_value\u001b[0m\u001b[0;34m(\u001b[0m\u001b[0mparams\u001b[0m\u001b[0;34m)\u001b[0m\u001b[0;34m\u001b[0m\u001b[0m\n\u001b[0;32m--> 254\u001b[0;31m         \u001b[0mresponse\u001b[0m \u001b[0;34m=\u001b[0m \u001b[0mself\u001b[0m\u001b[0;34m.\u001b[0m\u001b[0mcommand_executor\u001b[0m\u001b[0;34m.\u001b[0m\u001b[0mexecute\u001b[0m\u001b[0;34m(\u001b[0m\u001b[0mdriver_command\u001b[0m\u001b[0;34m,\u001b[0m \u001b[0mparams\u001b[0m\u001b[0;34m)\u001b[0m\u001b[0;34m\u001b[0m\u001b[0m\n\u001b[0m\u001b[1;32m    255\u001b[0m         \u001b[0;32mif\u001b[0m \u001b[0mresponse\u001b[0m\u001b[0;34m:\u001b[0m\u001b[0;34m\u001b[0m\u001b[0m\n\u001b[1;32m    256\u001b[0m             \u001b[0mself\u001b[0m\u001b[0;34m.\u001b[0m\u001b[0merror_handler\u001b[0m\u001b[0;34m.\u001b[0m\u001b[0mcheck_response\u001b[0m\u001b[0;34m(\u001b[0m\u001b[0mresponse\u001b[0m\u001b[0;34m)\u001b[0m\u001b[0;34m\u001b[0m\u001b[0m\n",
      "\u001b[0;32m/Users/ethanseo/anaconda/lib/python3.6/site-packages/selenium/webdriver/remote/remote_connection.py\u001b[0m in \u001b[0;36mexecute\u001b[0;34m(self, command, params)\u001b[0m\n\u001b[1;32m    462\u001b[0m         \u001b[0mpath\u001b[0m \u001b[0;34m=\u001b[0m \u001b[0mstring\u001b[0m\u001b[0;34m.\u001b[0m\u001b[0mTemplate\u001b[0m\u001b[0;34m(\u001b[0m\u001b[0mcommand_info\u001b[0m\u001b[0;34m[\u001b[0m\u001b[0;36m1\u001b[0m\u001b[0;34m]\u001b[0m\u001b[0;34m)\u001b[0m\u001b[0;34m.\u001b[0m\u001b[0msubstitute\u001b[0m\u001b[0;34m(\u001b[0m\u001b[0mparams\u001b[0m\u001b[0;34m)\u001b[0m\u001b[0;34m\u001b[0m\u001b[0m\n\u001b[1;32m    463\u001b[0m         \u001b[0murl\u001b[0m \u001b[0;34m=\u001b[0m \u001b[0;34m'%s%s'\u001b[0m \u001b[0;34m%\u001b[0m \u001b[0;34m(\u001b[0m\u001b[0mself\u001b[0m\u001b[0;34m.\u001b[0m\u001b[0m_url\u001b[0m\u001b[0;34m,\u001b[0m \u001b[0mpath\u001b[0m\u001b[0;34m)\u001b[0m\u001b[0;34m\u001b[0m\u001b[0m\n\u001b[0;32m--> 464\u001b[0;31m         \u001b[0;32mreturn\u001b[0m \u001b[0mself\u001b[0m\u001b[0;34m.\u001b[0m\u001b[0m_request\u001b[0m\u001b[0;34m(\u001b[0m\u001b[0mcommand_info\u001b[0m\u001b[0;34m[\u001b[0m\u001b[0;36m0\u001b[0m\u001b[0;34m]\u001b[0m\u001b[0;34m,\u001b[0m \u001b[0murl\u001b[0m\u001b[0;34m,\u001b[0m \u001b[0mbody\u001b[0m\u001b[0;34m=\u001b[0m\u001b[0mdata\u001b[0m\u001b[0;34m)\u001b[0m\u001b[0;34m\u001b[0m\u001b[0m\n\u001b[0m\u001b[1;32m    465\u001b[0m \u001b[0;34m\u001b[0m\u001b[0m\n\u001b[1;32m    466\u001b[0m     \u001b[0;32mdef\u001b[0m \u001b[0m_request\u001b[0m\u001b[0;34m(\u001b[0m\u001b[0mself\u001b[0m\u001b[0;34m,\u001b[0m \u001b[0mmethod\u001b[0m\u001b[0;34m,\u001b[0m \u001b[0murl\u001b[0m\u001b[0;34m,\u001b[0m \u001b[0mbody\u001b[0m\u001b[0;34m=\u001b[0m\u001b[0;32mNone\u001b[0m\u001b[0;34m)\u001b[0m\u001b[0;34m:\u001b[0m\u001b[0;34m\u001b[0m\u001b[0m\n",
      "\u001b[0;32m/Users/ethanseo/anaconda/lib/python3.6/site-packages/selenium/webdriver/remote/remote_connection.py\u001b[0m in \u001b[0;36m_request\u001b[0;34m(self, method, url, body)\u001b[0m\n\u001b[1;32m    486\u001b[0m             \u001b[0;32mtry\u001b[0m\u001b[0;34m:\u001b[0m\u001b[0;34m\u001b[0m\u001b[0m\n\u001b[1;32m    487\u001b[0m                 \u001b[0mself\u001b[0m\u001b[0;34m.\u001b[0m\u001b[0m_conn\u001b[0m\u001b[0;34m.\u001b[0m\u001b[0mrequest\u001b[0m\u001b[0;34m(\u001b[0m\u001b[0mmethod\u001b[0m\u001b[0;34m,\u001b[0m \u001b[0mparsed_url\u001b[0m\u001b[0;34m.\u001b[0m\u001b[0mpath\u001b[0m\u001b[0;34m,\u001b[0m \u001b[0mbody\u001b[0m\u001b[0;34m,\u001b[0m \u001b[0mheaders\u001b[0m\u001b[0;34m)\u001b[0m\u001b[0;34m\u001b[0m\u001b[0m\n\u001b[0;32m--> 488\u001b[0;31m                 \u001b[0mresp\u001b[0m \u001b[0;34m=\u001b[0m \u001b[0mself\u001b[0m\u001b[0;34m.\u001b[0m\u001b[0m_conn\u001b[0m\u001b[0;34m.\u001b[0m\u001b[0mgetresponse\u001b[0m\u001b[0;34m(\u001b[0m\u001b[0;34m)\u001b[0m\u001b[0;34m\u001b[0m\u001b[0m\n\u001b[0m\u001b[1;32m    489\u001b[0m             \u001b[0;32mexcept\u001b[0m \u001b[0;34m(\u001b[0m\u001b[0mhttplib\u001b[0m\u001b[0;34m.\u001b[0m\u001b[0mHTTPException\u001b[0m\u001b[0;34m,\u001b[0m \u001b[0msocket\u001b[0m\u001b[0;34m.\u001b[0m\u001b[0merror\u001b[0m\u001b[0;34m)\u001b[0m\u001b[0;34m:\u001b[0m\u001b[0;34m\u001b[0m\u001b[0m\n\u001b[1;32m    490\u001b[0m                 \u001b[0mself\u001b[0m\u001b[0;34m.\u001b[0m\u001b[0m_conn\u001b[0m\u001b[0;34m.\u001b[0m\u001b[0mclose\u001b[0m\u001b[0;34m(\u001b[0m\u001b[0;34m)\u001b[0m\u001b[0;34m\u001b[0m\u001b[0m\n",
      "\u001b[0;32m/Users/ethanseo/anaconda/lib/python3.6/http/client.py\u001b[0m in \u001b[0;36mgetresponse\u001b[0;34m(self)\u001b[0m\n\u001b[1;32m   1329\u001b[0m         \u001b[0;32mtry\u001b[0m\u001b[0;34m:\u001b[0m\u001b[0;34m\u001b[0m\u001b[0m\n\u001b[1;32m   1330\u001b[0m             \u001b[0;32mtry\u001b[0m\u001b[0;34m:\u001b[0m\u001b[0;34m\u001b[0m\u001b[0m\n\u001b[0;32m-> 1331\u001b[0;31m                 \u001b[0mresponse\u001b[0m\u001b[0;34m.\u001b[0m\u001b[0mbegin\u001b[0m\u001b[0;34m(\u001b[0m\u001b[0;34m)\u001b[0m\u001b[0;34m\u001b[0m\u001b[0m\n\u001b[0m\u001b[1;32m   1332\u001b[0m             \u001b[0;32mexcept\u001b[0m \u001b[0mConnectionError\u001b[0m\u001b[0;34m:\u001b[0m\u001b[0;34m\u001b[0m\u001b[0m\n\u001b[1;32m   1333\u001b[0m                 \u001b[0mself\u001b[0m\u001b[0;34m.\u001b[0m\u001b[0mclose\u001b[0m\u001b[0;34m(\u001b[0m\u001b[0;34m)\u001b[0m\u001b[0;34m\u001b[0m\u001b[0m\n",
      "\u001b[0;32m/Users/ethanseo/anaconda/lib/python3.6/http/client.py\u001b[0m in \u001b[0;36mbegin\u001b[0;34m(self)\u001b[0m\n\u001b[1;32m    295\u001b[0m         \u001b[0;31m# read until we get a non-100 response\u001b[0m\u001b[0;34m\u001b[0m\u001b[0;34m\u001b[0m\u001b[0m\n\u001b[1;32m    296\u001b[0m         \u001b[0;32mwhile\u001b[0m \u001b[0;32mTrue\u001b[0m\u001b[0;34m:\u001b[0m\u001b[0;34m\u001b[0m\u001b[0m\n\u001b[0;32m--> 297\u001b[0;31m             \u001b[0mversion\u001b[0m\u001b[0;34m,\u001b[0m \u001b[0mstatus\u001b[0m\u001b[0;34m,\u001b[0m \u001b[0mreason\u001b[0m \u001b[0;34m=\u001b[0m \u001b[0mself\u001b[0m\u001b[0;34m.\u001b[0m\u001b[0m_read_status\u001b[0m\u001b[0;34m(\u001b[0m\u001b[0;34m)\u001b[0m\u001b[0;34m\u001b[0m\u001b[0m\n\u001b[0m\u001b[1;32m    298\u001b[0m             \u001b[0;32mif\u001b[0m \u001b[0mstatus\u001b[0m \u001b[0;34m!=\u001b[0m \u001b[0mCONTINUE\u001b[0m\u001b[0;34m:\u001b[0m\u001b[0;34m\u001b[0m\u001b[0m\n\u001b[1;32m    299\u001b[0m                 \u001b[0;32mbreak\u001b[0m\u001b[0;34m\u001b[0m\u001b[0m\n",
      "\u001b[0;32m/Users/ethanseo/anaconda/lib/python3.6/http/client.py\u001b[0m in \u001b[0;36m_read_status\u001b[0;34m(self)\u001b[0m\n\u001b[1;32m    256\u001b[0m \u001b[0;34m\u001b[0m\u001b[0m\n\u001b[1;32m    257\u001b[0m     \u001b[0;32mdef\u001b[0m \u001b[0m_read_status\u001b[0m\u001b[0;34m(\u001b[0m\u001b[0mself\u001b[0m\u001b[0;34m)\u001b[0m\u001b[0;34m:\u001b[0m\u001b[0;34m\u001b[0m\u001b[0m\n\u001b[0;32m--> 258\u001b[0;31m         \u001b[0mline\u001b[0m \u001b[0;34m=\u001b[0m \u001b[0mstr\u001b[0m\u001b[0;34m(\u001b[0m\u001b[0mself\u001b[0m\u001b[0;34m.\u001b[0m\u001b[0mfp\u001b[0m\u001b[0;34m.\u001b[0m\u001b[0mreadline\u001b[0m\u001b[0;34m(\u001b[0m\u001b[0m_MAXLINE\u001b[0m \u001b[0;34m+\u001b[0m \u001b[0;36m1\u001b[0m\u001b[0;34m)\u001b[0m\u001b[0;34m,\u001b[0m \u001b[0;34m\"iso-8859-1\"\u001b[0m\u001b[0;34m)\u001b[0m\u001b[0;34m\u001b[0m\u001b[0m\n\u001b[0m\u001b[1;32m    259\u001b[0m         \u001b[0;32mif\u001b[0m \u001b[0mlen\u001b[0m\u001b[0;34m(\u001b[0m\u001b[0mline\u001b[0m\u001b[0;34m)\u001b[0m \u001b[0;34m>\u001b[0m \u001b[0m_MAXLINE\u001b[0m\u001b[0;34m:\u001b[0m\u001b[0;34m\u001b[0m\u001b[0m\n\u001b[1;32m    260\u001b[0m             \u001b[0;32mraise\u001b[0m \u001b[0mLineTooLong\u001b[0m\u001b[0;34m(\u001b[0m\u001b[0;34m\"status line\"\u001b[0m\u001b[0;34m)\u001b[0m\u001b[0;34m\u001b[0m\u001b[0m\n",
      "\u001b[0;32m/Users/ethanseo/anaconda/lib/python3.6/socket.py\u001b[0m in \u001b[0;36mreadinto\u001b[0;34m(self, b)\u001b[0m\n\u001b[1;32m    584\u001b[0m         \u001b[0;32mwhile\u001b[0m \u001b[0;32mTrue\u001b[0m\u001b[0;34m:\u001b[0m\u001b[0;34m\u001b[0m\u001b[0m\n\u001b[1;32m    585\u001b[0m             \u001b[0;32mtry\u001b[0m\u001b[0;34m:\u001b[0m\u001b[0;34m\u001b[0m\u001b[0m\n\u001b[0;32m--> 586\u001b[0;31m                 \u001b[0;32mreturn\u001b[0m \u001b[0mself\u001b[0m\u001b[0;34m.\u001b[0m\u001b[0m_sock\u001b[0m\u001b[0;34m.\u001b[0m\u001b[0mrecv_into\u001b[0m\u001b[0;34m(\u001b[0m\u001b[0mb\u001b[0m\u001b[0;34m)\u001b[0m\u001b[0;34m\u001b[0m\u001b[0m\n\u001b[0m\u001b[1;32m    587\u001b[0m             \u001b[0;32mexcept\u001b[0m \u001b[0mtimeout\u001b[0m\u001b[0;34m:\u001b[0m\u001b[0;34m\u001b[0m\u001b[0m\n\u001b[1;32m    588\u001b[0m                 \u001b[0mself\u001b[0m\u001b[0;34m.\u001b[0m\u001b[0m_timeout_occurred\u001b[0m \u001b[0;34m=\u001b[0m \u001b[0;32mTrue\u001b[0m\u001b[0;34m\u001b[0m\u001b[0m\n",
      "\u001b[0;31mKeyboardInterrupt\u001b[0m: "
     ]
    }
   ],
   "source": [
    "first_oldURL = driver.find_element_by_class_name('_djdmk')\n",
    "oldURL = first_oldURL.get_attribute('href')[28:39]\n",
    "first_newURL = driver.find_element_by_class_name('_3a693')\n",
    "newURL = first_newURL.get_attribute('href')[28:39]\n",
    "\n",
    "\n",
    "\n",
    "for num in range(800):\n",
    "    print(num)\n",
    "    print(\"URL: \" + oldURL)\n",
    "    \n",
    "    # Time component\n",
    "    getTime = driver.find_element_by_css_selector('time._p29ma')\n",
    "    writeTime = getTime.get_attribute('title')\n",
    "    print(\"Time: \" + writeTime)\n",
    "    if num < 9 and writeTime != 'Aug 16, 2017': continue\n",
    "    if num >= 9 and writeTime == 'Aug 15 2017': break\n",
    "    \n",
    "    while (oldURL == newURL):\n",
    "        time.sleep(0.8)\n",
    "        getURL = driver.find_element_by_class_name('_3a693')\n",
    "        newURL = getURL.get_attribute('href')[28:39]    \n",
    "\n",
    "    # comment 걸러내기\n",
    "    # comment를 안쓴 post는 _ezgzd 자체가 없어서 exception 처리. \n",
    "    try:\n",
    "        tags = driver.find_element_by_xpath(\"//li[@class='_ezgzd']\")\n",
    "        username = tags.find_element_by_xpath(\"./a\").text\n",
    "        comment = tags.find_element_by_xpath(\"./span\").text     \n",
    "    except:\n",
    "        noTag = driver.find_element_by_class_name('_2g7d5')\n",
    "        username = noTag.get_attribute('title')\n",
    "        comment = ''\n",
    "        pass\n",
    "    \n",
    "    # if the user is unique, \n",
    "    if data['Users'].__contains__(username):\n",
    "        data['Users'][username].append({\"URL\": newURL, \"Comm\": comment})\n",
    "    else:\n",
    "        data['Users'].update({username: [{\"URL\": newURL, \"Comm\": comment}]})\n",
    "    \n",
    "    # Increment Post Count\n",
    "    count += 1\n",
    "    # Set \n",
    "    oldURL = newURL \n",
    "    # Click Next\n",
    "    driver.find_element_by_class_name('_3a693').click() # Click Next Button\n",
    "    \n",
    "data['Count'] = count\n",
    "data\n",
    "\n",
    "\n",
    "# data['Users'].update({'hellword': [{\"URL\": \"/p/asdf\", \"Comm\": \"#analsdkfjal\"}]})\n",
    "    \n",
    "# # if the user is not unique,\n",
    "# olduser = 'hellword'\n",
    "# print(data['Users'].__contains__(olduser))\n",
    "# data['Users'][olduser].append({\"URL\": '/p/gangnam', \"Comm\" : \"newComment\"})\n",
    "# data\n",
    "\n",
    "# # if the user is unique,\n",
    "# newuser = 'newGuy'\n",
    "# data['Users'].update({newuser: [{\"URL\": '/p/newPlace', \"Comm\": \"yayaya\"}]})\n",
    "# data\n",
    "\n",
    "# # to access all comments\n",
    "# for d in data['Users']:\n",
    "#     for i in data['Users'][d]:\n",
    "#         print(i['Comm'])\n",
    "\n",
    "\n"
   ]
  },
  {
   "cell_type": "code",
   "execution_count": null,
   "metadata": {
    "collapsed": false
   },
   "outputs": [],
   "source": [
    "# newJson = json.dumps(data)\n",
    "# newJson"
   ]
  },
  {
   "cell_type": "code",
   "execution_count": null,
   "metadata": {
    "collapsed": true
   },
   "outputs": [],
   "source": [
    "# date = '8.8.2017'\n",
    "# username = \"helloworld\"\n",
    "# url = \"/p/sinsa\"\n",
    "# comment = \"#Ethan\""
   ]
  },
  {
   "cell_type": "code",
   "execution_count": null,
   "metadata": {
    "collapsed": true
   },
   "outputs": [],
   "source": [
    "# data['Count'] += 1"
   ]
  },
  {
   "cell_type": "code",
   "execution_count": null,
   "metadata": {
    "collapsed": false
   },
   "outputs": [],
   "source": [
    "# data['User']['userID'].__contains__('bhseo90')\n",
    "# data['User']['userID']"
   ]
  },
  {
   "cell_type": "code",
   "execution_count": null,
   "metadata": {
    "collapsed": true
   },
   "outputs": [],
   "source": [
    "# 'userID': username, 'Content': {'Comment': [{comment: url}]}"
   ]
  }
 ],
 "metadata": {
  "kernelspec": {
   "display_name": "Python 3",
   "language": "python",
   "name": "python3"
  },
  "language_info": {
   "codemirror_mode": {
    "name": "ipython",
    "version": 3
   },
   "file_extension": ".py",
   "mimetype": "text/x-python",
   "name": "python",
   "nbconvert_exporter": "python",
   "pygments_lexer": "ipython3",
   "version": "3.6.0"
  }
 },
 "nbformat": 4,
 "nbformat_minor": 2
}
