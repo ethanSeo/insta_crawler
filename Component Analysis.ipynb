{
 "cells": [
  {
   "cell_type": "code",
   "execution_count": 1,
   "metadata": {
    "collapsed": false
   },
   "outputs": [],
   "source": [
    "# import nltk\n",
    "# en = nltk.Text\n",
    "import re\n",
    "from collections import Counter\n",
    "from konlpy.tag import Hannanum, Kkma, Komoran\n",
    "from konlpy.utils import concordance, pprint\n",
    "import os\n",
    "\n",
    "path = os.getcwd()"
   ]
  },
  {
   "cell_type": "code",
   "execution_count": 2,
   "metadata": {
    "collapsed": false
   },
   "outputs": [
    {
     "name": "stdout",
     "output_type": "stream",
     "text": [
      "✨\n"
     ]
    }
   ],
   "source": [
    "print(u\"\\U00002728\")"
   ]
  },
  {
   "cell_type": "code",
   "execution_count": 3,
   "metadata": {
    "collapsed": false,
    "scrolled": true
   },
   "outputs": [
    {
     "data": {
      "text/plain": [
       "['Watch out streets of Gangnam,Angelina has finally got her bike!*_* #sohappy #yaasssss\\n',\n",
       " '\\n무슨 노래 듣는중?\\n',\n",
       " '\\n#일요일\\n',\n",
       " '\\n오늘 소정선생의 자존감수업 아주 뜻깊었쑵니다.... @suzuln \\n그리고 열심히 파리 잡는 희주ㅋㅋㅋㅋㅋㅋㅋㅋ @yoo.xx\\n#여기는_마키진_입니당\\n',\n",
       " '\\n오늘 업뎃된거 🙊\\n찍으면서 래옥이랑 넘나 내 #취저코디 라구.. ❤️\\n요건 #하객룩 #오피스룩 다 좋아용\\n네이버에 \" #미뉴잇 \"\\n.\\n.\\n요즘 머리 문의 많은데 저는 3년동안 은세영부원장님테 커트 + 저한테 딱맞는 색으로 염색받구\\n직모라서 매일 고데기하고 있어용 \\n귀옆으로 살짝 내려오는 애교머리 컷트는 신의한수! 얼굴에 따라 해주시는데\\n진짜 매번 갈때마다 물개박수하고 나오는것🙊\\n.\\n문의는 여기루 👉🏻 @eunseyoung \\n#차홍아르더은세영 #차홍아르더도산파크 .\\n.\\n#내스타일이야 #daily #officelook ❤️\\n',\n",
       " '\\n머리 어떻게 해야하지이 정리가안되네\\n운동은 하는데 살은 안빠지는 건 또 어떻게 정리해야함\\n#플랙\\n#plac \\n#placjeans\\n#mmlg \\n#87mm\\n',\n",
       " '\\n잠깐 시간나서 달팡관리 받으러, 🌿\\n#문클리닉#피부를부탁해#☺️\\n.\\n.\\n🔥당당하게 비키니입자, 여름맞이 이벤트🔥\\n<<MKdance 7월 💯EVENT>>\\n- 소그룹레슨(6인)에 해당\\n- 4인단체 예약시 원하는 시간,요일에 오픈가능\\n.\\n.\\n✔️가격\\n* 주1회(4주) : 정가12->할인가 9\\n* 주2회(4주) : 정가24->할인가18->더블할인 15만원\\n* 주3회(4주) : 정가36->할인가27->더블할인 25만원\\n.\\n.\\n✔️요일 및 시간\\n* 월요일(NEW‼)\\n- pm 8:00-9:00\\n* 화요일\\n- pm 8:00-9:00\\n- pm 9:00-10:00\\n* 수요일\\n- pm 8:00-9:00\\n* 목요일\\n- pm 8:00-9:00\\n- pm 9:00-10:00\\n✔ 장소\\n- 뚝섬역 2번출구 도보3분\\n',\n",
       " '\\n널 체포한다🚔\\n.\\n#장래희망#불구속입건#구속영장#강제연행#내꿈은경찰\\n',\n",
       " '\\n#어제 #신사 #겐로쿠우동 #C27 😘선물도 받았당 간만에 돌아온 아이 다시 가지말징 ㅜㅜ #imcomediannotcanadian ~\\n#먹스타 #일상 #사진스타그램\\n',\n",
       " '\\n음~ 소문대로 맛있었다 ㅎㅎㅎ #나도드뎌먹어본핫독👏🏻#맛있어용#신사동#배드컨테이너#래미콘썬더밤아이스크림\\n',\n",
       " '\\n#굿모닝\\n아침부터 #양갈래 머리하고 #귀여운척 해도 되나요??\\n#창가 에 #햇살 이 이쁘게 들어와소 #샤바방 느낌이 좋은사진!\\n왠지 양갈래 머리가 나쁘지 읺은거 보니 #할리퀸 #코스프레 도 괜찮겠다는 생각을!😅😅😅\\n.\\n좋은 하루 시작하세요~!\\n.\\nPhoto by @shinlimdong\\n.\\n#원본 #무보정 인건 안비밀 #전신스타그램  #얼스타그램 #감성사진 #컨셉촬영 #카페 에서 #사진찍기 #모델놀이 #일반인 #모델 #촬영문의 #DM #portrait #picture #sexy #woman\\n',\n",
       " '\\n솔직히 이름도 모르고 스텔라간판 보고 들어와서 위치태그도 모른다 담엔 육회에 소주 하자 샌드위치에 맥주나\\n',\n",
       " '\\n뭘 팔까???\\n',\n",
       " '\\n:)\\n13년지기 내새꾸랑😘\\n오랜만에 보니까 할 말이 넘치는구나💕\\n화이팅하자 우리✨✨✨\\n']"
      ]
     },
     "execution_count": 3,
     "metadata": {},
     "output_type": "execute_result"
    }
   ],
   "source": [
    "with open('test.txt', 'r') as f:\n",
    "    lines = f.read().split('--*--')\n",
    "lines"
   ]
  },
  {
   "cell_type": "code",
   "execution_count": 4,
   "metadata": {
    "collapsed": false
   },
   "outputs": [
    {
     "name": "stdout",
     "output_type": "stream",
     "text": [
      "Watch out streets of Gangnam,Angelina has finally got her bike!*_* #sohappy #yaasssss\n",
      "\n",
      "\n",
      "무슨 노래 듣는중?\n",
      "\n",
      "\n",
      "#일요일\n",
      "\n",
      "\n",
      "오늘 소정선생의 자존감수업 아주 뜻깊었쑵니다.... @suzuln \n",
      "그리고 열심히 파리 잡는 희주ㅋㅋㅋㅋㅋㅋㅋㅋ @yoo.xx\n",
      "#여기는_마키진_입니당\n",
      "\n",
      "\n",
      "오늘 업뎃된거 🙊\n",
      "찍으면서 래옥이랑 넘나 내 #취저코디 라구.. ❤️\n",
      "요건 #하객룩 #오피스룩 다 좋아용\n",
      "네이버에 \" #미뉴잇 \"\n",
      ".\n",
      ".\n",
      "요즘 머리 문의 많은데 저는 3년동안 은세영부원장님테 커트 + 저한테 딱맞는 색으로 염색받구\n",
      "직모라서 매일 고데기하고 있어용 \n",
      "귀옆으로 살짝 내려오는 애교머리 컷트는 신의한수! 얼굴에 따라 해주시는데\n",
      "진짜 매번 갈때마다 물개박수하고 나오는것🙊\n",
      ".\n",
      "문의는 여기루 👉🏻 @eunseyoung \n",
      "#차홍아르더은세영 #차홍아르더도산파크 .\n",
      ".\n",
      "#내스타일이야 #daily #officelook ❤️\n",
      "\n",
      "\n",
      "머리 어떻게 해야하지이 정리가안되네\n",
      "운동은 하는데 살은 안빠지는 건 또 어떻게 정리해야함\n",
      "#플랙\n",
      "#plac \n",
      "#placjeans\n",
      "#mmlg \n",
      "#87mm\n",
      "\n",
      "\n",
      "잠깐 시간나서 달팡관리 받으러, 🌿\n",
      "#문클리닉#피부를부탁해#☺️\n",
      ".\n",
      ".\n",
      "🔥당당하게 비키니입자, 여름맞이 이벤트🔥\n",
      "<<MKdance 7월 💯EVENT>>\n",
      "- 소그룹레슨(6인)에 해당\n",
      "- 4인단체 예약시 원하는 시간,요일에 오픈가능\n",
      ".\n",
      ".\n",
      "✔️가격\n",
      "* 주1회(4주) : 정가12->할인가 9\n",
      "* 주2회(4주) : 정가24->할인가18->더블할인 15만원\n",
      "* 주3회(4주) : 정가36->할인가27->더블할인 25만원\n",
      ".\n",
      ".\n",
      "✔️요일 및 시간\n",
      "* 월요일(NEW‼)\n",
      "- pm 8:00-9:00\n",
      "* 화요일\n",
      "- pm 8:00-9:00\n",
      "- pm 9:00-10:00\n",
      "* 수요일\n",
      "- pm 8:00-9:00\n",
      "* 목요일\n",
      "- pm 8:00-9:00\n",
      "- pm 9:00-10:00\n",
      "✔ 장소\n",
      "- 뚝섬역 2번출구 도보3분\n",
      "\n",
      "\n",
      "널 체포한다🚔\n",
      ".\n",
      "#장래희망#불구속입건#구속영장#강제연행#내꿈은경찰\n",
      "\n",
      "\n",
      "#어제 #신사 #겐로쿠우동 #C27 😘선물도 받았당 간만에 돌아온 아이 다시 가지말징 ㅜㅜ #imcomediannotcanadian ~\n",
      "#먹스타 #일상 #사진스타그램\n",
      "\n",
      "\n",
      "음~ 소문대로 맛있었다 ㅎㅎㅎ #나도드뎌먹어본핫독👏🏻#맛있어용#신사동#배드컨테이너#래미콘썬더밤아이스크림\n",
      "\n",
      "\n",
      "#굿모닝\n",
      "아침부터 #양갈래 머리하고 #귀여운척 해도 되나요??\n",
      "#창가 에 #햇살 이 이쁘게 들어와소 #샤바방 느낌이 좋은사진!\n",
      "왠지 양갈래 머리가 나쁘지 읺은거 보니 #할리퀸 #코스프레 도 괜찮겠다는 생각을!😅😅😅\n",
      ".\n",
      "좋은 하루 시작하세요~!\n",
      ".\n",
      "Photo by @shinlimdong\n",
      ".\n",
      "#원본 #무보정 인건 안비밀 #전신스타그램  #얼스타그램 #감성사진 #컨셉촬영 #카페 에서 #사진찍기 #모델놀이 #일반인 #모델 #촬영문의 #DM #portrait #picture #sexy #woman\n",
      "\n",
      "\n",
      "솔직히 이름도 모르고 스텔라간판 보고 들어와서 위치태그도 모른다 담엔 육회에 소주 하자 샌드위치에 맥주나\n",
      "\n",
      "\n",
      "뭘 팔까???\n",
      "\n",
      "\n",
      ":)\n",
      "13년지기 내새꾸랑😘\n",
      "오랜만에 보니까 할 말이 넘치는구나💕\n",
      "화이팅하자 우리✨✨✨\n",
      "\n"
     ]
    }
   ],
   "source": [
    "emoji_pattern = re.compile(\"[\"\n",
    "        u\"\\U0001F600-\\U0001F64F\"  # emoticons\n",
    "        u\"\\U0001F300-\\U0001F5FF\"  # symbols & pictographs\n",
    "        u\"\\U0001F680-\\U0001F6FF\"  # transport & map symbols\n",
    "        u\"\\U0001F1E0-\\U0001F1FF\"  # flags (iOS)\n",
    "        u\"\\U00002728\"u\"\\❤️\"u\"\\✔\"u\"\\uf33f\"                  \n",
    "                           \"]+\", flags=re.UNICODE)\n",
    "\n",
    "for line in lines:\n",
    "    emoji_pattern.sub(r'', line)\n",
    "    print(line)\n",
    "\n",
    "# comps = [line for line in lines]"
   ]
  },
  {
   "cell_type": "code",
   "execution_count": 5,
   "metadata": {
    "collapsed": false
   },
   "outputs": [
    {
     "ename": "NameError",
     "evalue": "name 'comps' is not defined",
     "output_type": "error",
     "traceback": [
      "\u001b[0;31m---------------------------------------------------------------------------\u001b[0m",
      "\u001b[0;31mNameError\u001b[0m                                 Traceback (most recent call last)",
      "\u001b[0;32m<ipython-input-5-870373a4a05b>\u001b[0m in \u001b[0;36m<module>\u001b[0;34m()\u001b[0m\n\u001b[0;32m----> 1\u001b[0;31m \u001b[0mcomp\u001b[0m \u001b[0;34m=\u001b[0m \u001b[0mcomps\u001b[0m\u001b[0;34m[\u001b[0m\u001b[0;36m6\u001b[0m\u001b[0;34m]\u001b[0m\u001b[0;34m\u001b[0m\u001b[0m\n\u001b[0m\u001b[1;32m      2\u001b[0m \u001b[0mtag\u001b[0m \u001b[0;34m=\u001b[0m \u001b[0mKomoran\u001b[0m\u001b[0;34m(\u001b[0m\u001b[0;34m)\u001b[0m\u001b[0;34m\u001b[0m\u001b[0m\n\u001b[1;32m      3\u001b[0m \u001b[0mtag\u001b[0m\u001b[0;34m.\u001b[0m\u001b[0mpos\u001b[0m\u001b[0;34m(\u001b[0m\u001b[0mcomp\u001b[0m\u001b[0;34m)\u001b[0m\u001b[0;34m\u001b[0m\u001b[0m\n",
      "\u001b[0;31mNameError\u001b[0m: name 'comps' is not defined"
     ]
    }
   ],
   "source": [
    "comp = comps[6]\n",
    "tag = Komoran()\n",
    "tag.pos(comp)"
   ]
  },
  {
   "cell_type": "code",
   "execution_count": null,
   "metadata": {
    "collapsed": false
   },
   "outputs": [],
   "source": [
    "for comp in comps:\n",
    "    for morph, tag in comp:\n",
    "        if tag in ['NNP', 'NNG']:\n",
    "            nouns.add(morph)\n",
    "\n",
    "nouns = list(nouns)\n",
    "noun_index = {noun: i for i, noun in enumerate(nouns)}"
   ]
  },
  {
   "cell_type": "code",
   "execution_count": null,
   "metadata": {
    "collapsed": true
   },
   "outputs": [],
   "source": []
  }
 ],
 "metadata": {
  "kernelspec": {
   "display_name": "Python 3",
   "language": "python",
   "name": "python3"
  },
  "language_info": {
   "codemirror_mode": {
    "name": "ipython",
    "version": 3
   },
   "file_extension": ".py",
   "mimetype": "text/x-python",
   "name": "python",
   "nbconvert_exporter": "python",
   "pygments_lexer": "ipython3",
   "version": "3.6.0"
  }
 },
 "nbformat": 4,
 "nbformat_minor": 2
}
