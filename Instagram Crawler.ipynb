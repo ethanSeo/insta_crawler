{
 "cells": [
  {
   "cell_type": "code",
   "execution_count": 24,
   "metadata": {
    "collapsed": true
   },
   "outputs": [],
   "source": [
    "\n",
    "# filename = \"garosu_comment0.txt\"\n",
    "# filename = \"garosu_comment1.txt\"\n",
    "# filename = \"garosu_comment2.txt\"\n",
    "# filename = \"garosu_tag_comment0.txt\"\n",
    "\n",
    "\n",
    "# filename = \"itae_comment.txt\"\n",
    "\n"
   ]
  },
  {
   "cell_type": "code",
   "execution_count": 25,
   "metadata": {
    "collapsed": false,
    "scrolled": true
   },
   "outputs": [],
   "source": [
    "from bs4 import BeautifulSoup\n",
    "import selenium.webdriver as webdriver\n",
    "import time\n",
    "import codecs\n",
    "\n",
    "#for get request\n",
    "#import request\n",
    "\n",
    "scrollNum = 300\n",
    "\n",
    "# Instagram as location result, **not hashtag**\n",
    "# filename = \"garosu_postcount3a.txt\"\n",
    "# url = 'http://www.instagram.com/explore/locations/266779631/' # @가로수길0\n",
    "\n",
    "# filename = \"garosu_postcount4.txt\"\n",
    "# url = 'http://www.instagram.com/explore/locations/698628497/' # @가로수길1 this is it\n",
    "\n",
    "# url = 'https://www.instagram.com/explore/locations/219016505/sinsa-station/'# @가로수길2\n",
    "# url = 'https://www.instagram.com/explore/tags/%EA%B0%80%EB%A1%9C%EC%88%98%EA%B8%B8/'\n",
    "\n",
    "# url = \"https://www.instagram.com/explore/locations/215188434/\" # 강남역\n",
    "# filename = \"gangnam_postcount4.txt\"\n",
    "# url = \"https://www.instagram.com/explore/locations/214082506/gangnam-station/\" # 강남역 this is it\n",
    "\n",
    "# url = 'https://www.instagram.com/explore/locations/1009765122/' #이태원0\n",
    "filename = \"itae_postcount4.txt\"\n",
    "url = 'https://www.instagram.com/explore/locations/220945406/itaewon/' #이태원1 this is it\n",
    "# url = 'https://www.instagram.com/erin._.hi/'\n",
    "\n",
    "driver = webdriver.PhantomJS()\n",
    "# driver = webdriver.Chrome()\n",
    "driver.get(url)\n",
    "\n",
    "\n",
    "f = codecs.open(filename, \"w\", encoding='utf-8')\n"
   ]
  },
  {
   "cell_type": "code",
   "execution_count": 26,
   "metadata": {
    "collapsed": false
   },
   "outputs": [],
   "source": [
    "clickin = driver.find_element_by_link_text('Load more') # find 'Load More' text button. \n",
    "\n",
    "clickin.click()"
   ]
  },
  {
   "cell_type": "code",
   "execution_count": 27,
   "metadata": {
    "collapsed": false
   },
   "outputs": [],
   "source": [
    "scroll_counter = 0 # sets the amount of scroll downs\n",
    "\n",
    "# 가로수길 50\n",
    "# 이태원 70\n",
    "# 강남 20\n",
    "while scroll_counter <= scrollNum:\n",
    "    time.sleep(2.7) # time between scrolls (takes some time to instagram to load)\n",
    "    driver.execute_script(\n",
    "        \"window.scrollTo(0, document.body.scrollHeight)\"\n",
    "    ) # execute scroll\n",
    "    scroll_counter += 1 # add 1 to counter\n",
    "soup = BeautifulSoup(driver.page_source, \"lxml\")\n",
    "time.sleep(2.2)"
   ]
  },
  {
   "cell_type": "code",
   "execution_count": 28,
   "metadata": {
    "collapsed": true
   },
   "outputs": [],
   "source": [
    "#_mck9w _gvoze _f2mse 이 클라스 안에 있는 \"a tag\"\n",
    "containers = soup.findAll(\"div\",{\"class\":\"_mck9w _gvoze _f2mse\"})"
   ]
  },
  {
   "cell_type": "code",
   "execution_count": 29,
   "metadata": {
    "collapsed": false,
    "scrolled": false
   },
   "outputs": [
    {
     "name": "stdout",
     "output_type": "stream",
     "text": [
      "['/p/BXsiTW8BHz4/', '/p/BXroOdYgjc0/', '/p/BXrmRz1h119/', '/p/BXrbvOmgdhy/', '/p/BXqSFqHD2OO/', '/p/BXqCR2VF6Gd/', '/p/BXsk4OTAQAh/', '/p/BXsrukRB3nk/', '/p/BXsiCmgBcSn/', '/p/BXtwk6jhz88/', '/p/BXtwdNsl1ko/', '/p/BXtwMjFFK-p/', '/p/BXtv6pdB_on/', '/p/BXtvzNAAug4/', '/p/BXtvokcAi2d/', '/p/BXtvLOBFoA6/', '/p/BXtvERyD4kG/', '/p/BXtuZTVD59U/', '/p/BXttf9mBk0j/', '/p/BXtsS4RnfzB/', '/p/BXtsI5Qhfux/', '/p/BXtsAYWhnFY/', '/p/BXtr1xanTBe/', '/p/BXtrw4MBxGH/', '/p/BXtqyCxDks_/', '/p/BXtqkVGFf9o/', '/p/BXtqKqqBVTu/', '/p/BXtqDcFBHCA/', '/p/BXtpqHQgeC8/', '/p/BXto_B5lB2d/', '/p/BXtoVp4gPfA/', '/p/BXtoCUVjulm/', '/p/BXtoBgUghYe/', '/p/BXtnYLWF5GE/', '/p/BXtnWUWAJNm/', '/p/BXtnLc7hIry/', '/p/BXtnGK8lyGZ/', '/p/BXtmfM_FgcH/', '/p/BXtl7VqhVVN/', '/p/BXtlKl7ntDk/', '/p/BXtj-nbl0qg/', '/p/BXtikHDjzMp/', '/p/BXtij71nl2g/', '/p/BXtiibglIaH/', '/p/BXtgJR_DfSH/', '/p/BXtfXQVg7G7/', '/p/BXtd8OylsJR/', '/p/BXtdWVaFsJ-/', '/p/BXtb6_9FgaS/', '/p/BXtbiaAAM0c/', '/p/BXtbbBQlDgu/', '/p/BXta9BEHi6Q/', '/p/BXtaxudlySn/', '/p/BXtaSTqlZu4/', '/p/BXtZ4g-ARo0/', '/p/BXtYwV4FzW4/', '/p/BXtYUIeF0ZN/', '/p/BXtYJCUgfIY/', '/p/BXtYGXeAdnT/', '/p/BXtYE9nB5de/', '/p/BXtXcJ2lNJh/', '/p/BXtXFRAFTPe/', '/p/BXtXFRnhZ2Q/', '/p/BXtWh_NgZc7/', '/p/BXtVcQClxji/', '/p/BXtU8wJHDAm/', '/p/BXtU4FDHhho/', '/p/BXtUzz1DLE0/', '/p/BXtUtgWjo3w/', '/p/BXtUkfClDK6/', '/p/BXtT3ODFu6l/', '/p/BXtTsFclM_o/', '/p/BXtTL8Tgkfz/', '/p/BXtS5THggOm/', '/p/BXtS5K2hQy7/', '/p/BXtR7U5g7UP/', '/p/BXtR7Gnhp4V/', '/p/BXtR52fBZOl/', '/p/BXtR4oDAXY9/', '/p/BXtRymqj8sG/', '/p/BXtRycolrOI/', '/p/BXtRsHdnonu/', '/p/BXtRpngFaE-/', '/p/BXtRc2RF150/', '/p/BXtPZoDn_ZG/', '/p/BXtOoSIgQxZ/', '/p/BXtOkoPFrS8/', '/p/BXtOi9xBLbr/', '/p/BXtOSBAAjy9/', '/p/BXtORKsh0S4/', '/p/BXtN5MvAUwH/', '/p/BXtNww1Aidq/', '/p/BXtNg83l1o8/', '/p/BXtMhg9DWU5/', '/p/BXtMTn1FNHd/', '/p/BXtMPxAF5T4/', '/p/BXtMN07hiPV/', '/p/BXtMFTEBLzp/', '/p/BXtMDMohXSL/', '/p/BXtMA3Ohm3B/', '/p/BXtLw6Yj9cb/', '/p/BXtLt7glQpE/', '/p/BXtLn37ALZQ/', '/p/BXtLhecjhrz/', '/p/BXtLQn8jhnV/', '/p/BXtLKFSlmRN/', '/p/BXtLA01BGpT/', '/p/BXtK3slFxIF/', '/p/BXtKoX7gbeo/', '/p/BXtKfztjy0c/', '/p/BXtKWItFWtL/', '/p/BXtKG1mhKXn/', '/p/BXtJywFF9HR/', '/p/BXtJcCJDC-s/', '/p/BXtJbMjAq5c/', '/p/BXtIVvDgr5E/', '/p/BXtIFliBH4d/', '/p/BXtH_x_h5Fj/', '/p/BXtH9d2B6sQ/', '/p/BXtHqLOBdY8/', '/p/BXtHgK4FVDe/', '/p/BXtHXlEBwJw/', '/p/BXtHD85g70x/', '/p/BXtHCXEFqmj/', '/p/BXtG7yJgynr/', '/p/BXtGtwOjDiK/', '/p/BXtGkLhgzcu/', '/p/BXtGJ88lZsb/', '/p/BXtF0QvHvfA/', '/p/BXtFhSxBynw/', '/p/BXtFdxkBqgg/', '/p/BXtFbTdlQ0I/', '/p/BXtFRPElrvD/', '/p/BXtFJWSDqj4/', '/p/BXtEl6EgbFI/', '/p/BXtEi8blYW3/', '/p/BXtEJbfh7cN/', '/p/BXtDvtfnrg3/', '/p/BXtDuAnlU9Q/', '/p/BXtDbTclVjx/', '/p/BXtDOuPB0AS/', '/p/BXtC6N2nn9U/', '/p/BXtC12wAX6X/', '/p/BXtCz_0hfKV/', '/p/BXtCkGRgZ0c/', '/p/BXtCakyF5SL/', '/p/BXtCZ_RlDub/', '/p/BXtCXNdFNJ9/', '/p/BXtBbWjjGk-/', '/p/BXtA9wFlYM6/', '/p/BXtA89Eg6_g/', '/p/BXtA4EmlrRI/', '/p/BXs_02qFpWg/', '/p/BXs_mxylvfZ/', '/p/BXs_hizhRtC/', '/p/BXs--q5jIY4/', '/p/BXs-3OxFiNM/', '/p/BXs-tuOFvFO/', '/p/BXs-mHvgpdd/', '/p/BXs-h47AAn-/', '/p/BXs-N2elJHF/', '/p/BXs-LhzjCBq/', '/p/BXs-JL7FUf8/', '/p/BXs90f6BXMH/', '/p/BXs9yXAhE8F/', '/p/BXs9wLuj1ka/', '/p/BXs9u8ph5PA/', '/p/BXs9dtJF2Oo/', '/p/BXs9cG1BiFP/', '/p/BXs9R2YAKV0/', '/p/BXs9REglRm7/', '/p/BXs9KV6gjPB/', '/p/BXs9KA0jGne/', '/p/BXs9BV3jHx_/', '/p/BXs8_MKAqYq/', '/p/BXs85XWAaXk/', '/p/BXs84aRFJe2/', '/p/BXs84URA5BN/', '/p/BXs8sCshSTF/', '/p/BXs8a5JluM4/', '/p/BXs8VMSFJ0i/', '/p/BXs8Sn2lA1h/', '/p/BXs8Hl9DzWs/', '/p/BXs77jtgsIK/', '/p/BXs7tIOFfA7/', '/p/BXs7kwvF3xI/', '/p/BXs7j83Aw89/', '/p/BXs7eCXHVnX/', '/p/BXs7XzHg0Fl/', '/p/BXs7UXAAGdl/', '/p/BXs7NAbgkfv/', '/p/BXs7MODnp1f/', '/p/BXs7AaWjQkP/', '/p/BXs64-hnjxg/', '/p/BXs6rDrAaUm/', '/p/BXs6TPxFuNa/', '/p/BXs6OsYFWVI/', '/p/BXs6NyOgHb-/', '/p/BXs6MkMFeev/', '/p/BXs6K48AgPu/', '/p/BXs56AKhYRS/', '/p/BXs52Ongvbt/', '/p/BXs5xGQghmT/', '/p/BXs5v7LgGKg/', '/p/BXs5sLdgh38/', '/p/BXs5rTihveL/', '/p/BXs5gl1D8Ko/', '/p/BXs5bu4BXBj/', '/p/BXs5TkxDIm_/', '/p/BXs5Ryhjlvh/', '/p/BXs5ND5FDOr/', '/p/BXs5IWzBDgE/', '/p/BXs5EOAj9gz/', '/p/BXs46XDBsAQ/', '/p/BXs4452ljvF/', '/p/BXs41XQBjmc/', '/p/BXs4tEYnYql/', '/p/BXs4gHOjZZu/', '/p/BXs4YCrDBfp/', '/p/BXs4UFwgJkb/', '/p/BXs4RfQg9Qg/', '/p/BXs4Kjzg6_u/', '/p/BXs4Au3Bq9x/', '/p/BXs3zqbhS0S/', '/p/BXs3zUsAU-k/', '/p/BXs3wj0A6EG/', '/p/BXs3wEzgpYz/', '/p/BXs3u3LDOvT/', '/p/BXs3tC0jtgo/', '/p/BXs3atSgRlh/', '/p/BXs3aH1FE-Z/', '/p/BXs3aBQAIf0/', '/p/BXs3ZiYhO9S/', '/p/BXs3UnqBhfK/', '/p/BXs3Q8AgNU6/', '/p/BXs3N5RgzXJ/', '/p/BXs3M1Xj2Z9/', '/p/BXs3LW9nvbq/', '/p/BXs3LOJj_ry/', '/p/BXs3J5kAf1X/', '/p/BXs2t5dnLay/', '/p/BXs2ioWgCdT/', '/p/BXs2iC3gUCq/', '/p/BXs2d2mA-j_/', '/p/BXs2ZLaAOCV/', '/p/BXs2Wp2llhC/', '/p/BXs2RPwj-wp/', '/p/BXs2FNkAO0N/', '/p/BXs2DnajDSa/', '/p/BXs2DeohyVk/', '/p/BXs1wnJFH1V/', '/p/BXs1uDLj2kq/', '/p/BXs1spUlkPI/', '/p/BXs1oSlFAaf/', '/p/BXs1laJF-ma/', '/p/BXs1b6jAFja/', '/p/BXs1RxlD4bq/', '/p/BXs1RdQhbog/', '/p/BXs1IChAy_Z/', '/p/BXs09jzAHrP/', '/p/BXs03jvAU67/', '/p/BXs0w_Rhulj/', '/p/BXs0qkmBl3X/', '/p/BXs0lF3g2zj/', '/p/BXs0lEAhMJ2/', '/p/BXs0ixNADMG/', '/p/BXs0fGsFPzl/', '/p/BXs0Z2Jjb1h/', '/p/BXs0Y00lm-w/', '/p/BXs0R8PlpaJ/', '/p/BXs0KLAAZF2/', '/p/BXs0Gb2j6A5/', '/p/BXs0BzDgfFJ/', '/p/BXs0Br1gHiN/', '/p/BXsz-ipB64G/', '/p/BXsz8qUF6ZK/', '/p/BXsz6YsFG5A/', '/p/BXsz5uRl5Oc/', '/p/BXsz2gFFKF4/', '/p/BXsz0ydlICf/', '/p/BXszzSrh0VF/', '/p/BXszsIhg_wg/', '/p/BXszrp_AwvB/', '/p/BXszpCnF7zQ/', '/p/BXszmfoh556/', '/p/BXszlRLjf8u/', '/p/BXszfhsD4Xz/', '/p/BXszYPiF352/', '/p/BXszVnkgdMA/', '/p/BXszVVJlfHl/', '/p/BXszR9-gEU7/', '/p/BXszLo1g_V_/', '/p/BXszHdGl_Q-/', '/p/BXszGNigPS1/', '/p/BXszF37gSER/', '/p/BXsy8m5g22x/', '/p/BXsy2syndHp/', '/p/BXsy1v8nzK-/', '/p/BXsy0wylQOE/', '/p/BXsyt-6HCa_/', '/p/BXsyrwDl6V4/', '/p/BXsyiUyjrDH/', '/p/BXsybYDgiKy/', '/p/BXsyFk4jLBa/', '/p/BXsx7aaH2aa/', '/p/BXsx64blTsl/', '/p/BXsx5QJlvYc/', '/p/BXsx5Nljy7v/', '/p/BXsxu4bBuJl/', '/p/BXsxikKAcZa/', '/p/BXsxcrrFIUq/', '/p/BXsxcLoFQgj/', '/p/BXsxP9Yjsnt/', '/p/BXsxM4iDMIh/', '/p/BXsxIdPl4t0/', '/p/BXsxF9clFH_/', '/p/BXsw9qsB-VT/', '/p/BXsw7xolT8Z/', '/p/BXsw3byAi8s/', '/p/BXsw02GAprE/', '/p/BXswrR6gCRR/', '/p/BXswq6cBWbY/', '/p/BXswpbXgq8M/', '/p/BXswdkFh76H/', '/p/BXswcdvl2qK/', '/p/BXswa_4gTt9/', '/p/BXswUR_FGNF/', '/p/BXswRRDD9Kz/', '/p/BXswPPxHcTf/', '/p/BXswONbn8jf/', '/p/BXswMriDVzc/', '/p/BXswMO5AbGX/', '/p/BXswKi8gXxy/', '/p/BXswIKnFCaF/', '/p/BXswDnaAQjs/', '/p/BXswC2igL6Z/', '/p/BXswC2KBOG0/', '/p/BXswACVBPIW/', '/p/BXsv9y2lI2_/', '/p/BXsv9C9Fr9l/', '/p/BXsv8L8hcHb/', '/p/BXsv6MdA4XO/', '/p/BXsvy7mltM9/', '/p/BXsvv6RhShu/', '/p/BXsvpp4hHVu/', '/p/BXsvpD9D8EH/', '/p/BXsvgi6ABZS/', '/p/BXsvdj6DBVN/', '/p/BXsvb3WgNUt/', '/p/BXsvWwJAroS/', '/p/BXsvUxElQhq/', '/p/BXsvSqMhwmr/', '/p/BXsvRh9BeNC/', '/p/BXsvOerhv_I/', '/p/BXsvJcUA7Io/', '/p/BXsvJH3A-x4/', '/p/BXsvI3KgFS0/', '/p/BXsvH7aFgbv/', '/p/BXsvGUBBBf3/', '/p/BXsvDTIh819/', '/p/BXsvB2UnG0U/', '/p/BXsvAoLj2H-/', '/p/BXsu_D7lym-/', '/p/BXsu90QD_vV/', '/p/BXsu7JngGR8/', '/p/BXsu1nGBDKG/', '/p/BXsuzrqFTyf/', '/p/BXsuzXCjo_C/', '/p/BXsuxo4jPZi/', '/p/BXsuw1BBbTh/', '/p/BXsuwcvh3cZ/', '/p/BXsuqBLhJuN/', '/p/BXsunIbBcdY/', '/p/BXsumZVHELP/', '/p/BXsujZIlth-/', '/p/BXsuhVhn_iU/', '/p/BXsudkIB75Y/', '/p/BXsucRijgzw/', '/p/BXsuYm6nxyK/', '/p/BXsuUgwj2Lg/', '/p/BXsuUAbhPGv/', '/p/BXsuSZSBT16/', '/p/BXsuLu-lkON/', '/p/BXsuLAPBKma/', '/p/BXsuHQehq3r/', '/p/BXsuGNegAZI/', '/p/BXsuBNohGQU/', '/p/BXsuAeCFyDX/', '/p/BXsuAGGD4D6/', '/p/BXst_BVj483/', '/p/BXst-vqg0GT/', '/p/BXst97WDnVg/', '/p/BXst9yhDel7/', '/p/BXst5PpD0H4/', '/p/BXst5Ldl8KV/', '/p/BXst41_DpDc/', '/p/BXstzNFlaqA/', '/p/BXstyRRgHIB/', '/p/BXstuNUAODq/', '/p/BXsttXenRR8/', '/p/BXstnAUDuwY/', '/p/BXstjq2gIIX/', '/p/BXsthoFAH9z/', '/p/BXstg4AhvHW/', '/p/BXstfH_jip6/', '/p/BXstcAdACsK/', '/p/BXstb8KAG4q/', '/p/BXstaVglXd8/', '/p/BXstVWSgRjm/', '/p/BXstNG2nNd3/', '/p/BXstKyCjRQi/', '/p/BXstJzrgQjg/', '/p/BXstIr3jcYN/', '/p/BXstIomhfLT/', '/p/BXstH3jBzLr/', '/p/BXstGkph6Fl/', '/p/BXstF0Dl_8c/', '/p/BXstChbgods/', '/p/BXstBbOD8tP/', '/p/BXss_eph98g/', '/p/BXss6DllIBw/', '/p/BXssybJBKvD/', '/p/BXssw_dDBvY/', '/p/BXsssTsjV5H/', '/p/BXssrf0FIoT/', '/p/BXssp5llqnT/', '/p/BXsspWNnBdK/', '/p/BXsspKlFtNy/', '/p/BXssoJXAxos/', '/p/BXsslIshR4V/', '/p/BXssWgSgmmN/', '/p/BXssP25lAXb/', '/p/BXssO5jl7Af/', '/p/BXssOOXB3UD/', '/p/BXssHlljzg7/', '/p/BXssDdeAa4k/', '/p/BXsr9oDgU1-/', '/p/BXsr0GhlMtH/', '/p/BXsrybfFvSa/', '/p/BXsryVQga_E/', '/p/BXsrpBvAoqb/', '/p/BXsroujlAw4/', '/p/BXsroeSDbKD/', '/p/BXsrmVxlWyH/', '/p/BXsrfXdDXnV/', '/p/BXsreu2gaAR/', '/p/BXsrRNKh6IR/', '/p/BXsrOSAHu7E/', '/p/BXsrOJXAZt5/', '/p/BXsrJfDgB9r/', '/p/BXsrJZQAX-X/', '/p/BXsrCKbgayr/', '/p/BXsrBmxjWT8/', '/p/BXsq04BFu7y/', '/p/BXsqzlaFoiH/', '/p/BXsqyoplX9o/', '/p/BXsqv6ug527/', '/p/BXsqpQXAtcz/', '/p/BXsqoxogtft/', '/p/BXsqjorgZ4X/', '/p/BXsqhw8HpXh/', '/p/BXsqhCylLNE/', '/p/BXsqapAF6WX/', '/p/BXsqZU2g0O6/', '/p/BXsqU4_FnkY/', '/p/BXsqPzJldw8/', '/p/BXsqN_yDuyS/', '/p/BXsqNz_l8-0/', '/p/BXsqNomACFD/', '/p/BXsqLqehrB8/', '/p/BXsqHjSAASL/', '/p/BXsqD39guVA/', '/p/BXsqBrIHyU2/', '/p/BXsp6y4Hicp/', '/p/BXsp1KGlYRy/', '/p/BXsp0d2DEuk/', '/p/BXspw01Ff0h/', '/p/BXspvcQF0LN/', '/p/BXspqzKgfig/', '/p/BXspqmwncyA/', '/p/BXspklXhnNR/', '/p/BXspj5WF2pm/', '/p/BXspdYmhZjY/', '/p/BXspbU9Agvr/', '/p/BXspag5BXc9/', '/p/BXspaMPguj4/', '/p/BXspYF1Dljd/', '/p/BXspXzTg_Se/', '/p/BXspVYYFcKe/', '/p/BXspUX5joxf/', '/p/BXspUAXg6JR/', '/p/BXspTaUF1PV/', '/p/BXspLRHAfWw/', '/p/BXspKWMhAA_/', '/p/BXspGENlLYl/', '/p/BXspDztBDnr/', '/p/BXspB55B2lb/', '/p/BXspBB-F5em/', '/p/BXso7ysA5JH/', '/p/BXso5PLgFVP/', '/p/BXso4xwBByh/', '/p/BXso052Aj3P/', '/p/BXsow0rBlUp/', '/p/BXsop3XFiJd/', '/p/BXsomwGAeU0/', '/p/BXsoid8FMmf/', '/p/BXsofR3BZfH/', '/p/BXsoaxahlqu/', '/p/BXsoZ_NBXa9/', '/p/BXsoZLkFrmG/', '/p/BXsoT0XjzL4/', '/p/BXsoRaogpIF/', '/p/BXsoNkNFZIu/', '/p/BXsoDl-g0Zy/', '/p/BXsoDj1jzjg/', '/p/BXsn8Oxh63u/', '/p/BXsn7jSh2iw/', '/p/BXsntMdhZfV/', '/p/BXsnraWlxIO/', '/p/BXsnpEGFsQE/', '/p/BXsnocoAXHe/', '/p/BXsnoUgnIot/', '/p/BXsnkxwgTb3/', '/p/BXsng6NFBcP/', '/p/BXsncBWgpWO/', '/p/BXsnb_BBOLx/', '/p/BXsnaznh-5C/', '/p/BXsnZsvlMSi/', '/p/BXsnUecBorp/', '/p/BXsnSReh1Oz/', '/p/BXsnPz-HaHy/', '/p/BXsnOoFHlK-/', '/p/BXsnNTbjUwp/', '/p/BXsnLm-ApR0/', '/p/BXsnJ2mlGH3/', '/p/BXsnI3dBUan/', '/p/BXsnIF7lukV/', '/p/BXsnAmPD7jl/', '/p/BXsm93UFLQr/', '/p/BXsm8EbFKz2/', '/p/BXsm51cBq2z/', '/p/BXsm3exjTlY/', '/p/BXsmu5vj0Rr/', '/p/BXsmtlfgRW2/', '/p/BXsmteagedz/', '/p/BXsmrkZATEP/', '/p/BXsmrJpDzR8/', '/p/BXsmptrh5a1/', '/p/BXsmo5RA5KK/', '/p/BXsmlZPBTjj/', '/p/BXsmjAeAkX8/', '/p/BXsmcE0DDvx/', '/p/BXsmb7Mhgr6/', '/p/BXsmbazjE2s/', '/p/BXsmbFLAVah/', '/p/BXsmVyQHrj6/', '/p/BXsmU8AFkYC/', '/p/BXsmR4iBnp0/', '/p/BXsmP4XBEep/', '/p/BXsmPzggAq8/', '/p/BXsmOuClNDW/', '/p/BXsmNMIDdd0/', '/p/BXsmLjQBuLr/', '/p/BXsmKGiBD8J/', '/p/BXsmIvzATH7/', '/p/BXsmF_JF0xk/', '/p/BXsmFM6FXlC/', '/p/BXsmCSFA01n/', '/p/BXsl_x-FrkE/', '/p/BXsl8giHt23/', '/p/BXsl8IzgEzl/', '/p/BXsl7LincUP/', '/p/BXsl0WYAP6c/', '/p/BXslta6Hqif/', '/p/BXslsuLl8mY/', '/p/BXslp9bh9sP/', '/p/BXslpbIlwoS/', '/p/BXsllYsBXyp/', '/p/BXslijinPUZ/', '/p/BXslh3ThDr4/', '/p/BXslhpIhA9V/', '/p/BXslaUAlhDX/', '/p/BXslREpH-eG/', '/p/BXslK4XnX_R/', '/p/BXslJWGgrUJ/', '/p/BXslCj7jhJB/', '/p/BXslCLMHmTR/', '/p/BXslBzAjXM7/', '/p/BXslBDtFmkA/', '/p/BXsk_66ggH0/', '/p/BXsk--gDbWH/', '/p/BXsk-kFD1un/', '/p/BXsk9Brh4gZ/', '/p/BXsk4pulmrv/', '/p/BXsk3viHYJi/', '/p/BXsk2EjFgVe/', '/p/BXsk110lWsQ/', '/p/BXsk1qADZQ4/', '/p/BXskxUih7WY/', '/p/BXskxI4jOVU/', '/p/BXskv57Hp9y/', '/p/BXsku2WgRSF/', '/p/BXskuECH71t/', '/p/BXskrAIBaXY/', '/p/BXskoDiAIHU/', '/p/BXskn64FTtU/', '/p/BXsknLYAMj7/', '/p/BXskjl8g97s/', '/p/BXski0SDA_G/', '/p/BXske52naA9/', '/p/BXskcADFwwM/', '/p/BXskbbxB2uB/', '/p/BXskZLlFZp6/', '/p/BXskXHTlKLt/', '/p/BXskVaolNX_/', '/p/BXskUpUAgMX/', '/p/BXskPfcAyvt/', '/p/BXskN3Ahj-Z/', '/p/BXsj7C3jDlh/', '/p/BXsj4srhaBT/', '/p/BXsj1_iHJSg/', '/p/BXsjuxNAouA/', '/p/BXsjtqKlm75/', '/p/BXsjs78BNgA/', '/p/BXsjqTAFEnQ/', '/p/BXsjiLkh3cy/', '/p/BXsjek2gIyX/', '/p/BXsjSKngfIr/', '/p/BXsjQmCH858/', '/p/BXsjPzglHsb/', '/p/BXsjJMJDj-U/', '/p/BXsjH7olJT9/', '/p/BXsjHc6jp5C/', '/p/BXsjGnHA8ss/', '/p/BXsjDPRl9g8/', '/p/BXsjCs7l5cm/', '/p/BXsi9AJhtxM/', '/p/BXsi7dwDLdJ/', '/p/BXsi6xwFyyY/', '/p/BXsi2tNlX1h/', '/p/BXsivJjFEO5/', '/p/BXsiq-2gQNO/', '/p/BXsinbSDSjB/', '/p/BXsilzplQP0/', '/p/BXsie70A0dj/', '/p/BXsiaZGlQ7c/', '/p/BXsiWjzFPmH/', '/p/BXsiWZEnS1_/', '/p/BXsiShNBkiw/', '/p/BXsiRsdDYqn/', '/p/BXsiOCohc68/', '/p/BXsiL6AnuJy/', '/p/BXsiL0UD21y/', '/p/BXsiLqyh6AO/', '/p/BXsiC9TH2SF/', '/p/BXsh9CKD4tq/', '/p/BXsh2xKlACV/', '/p/BXsh2JXjWKm/', '/p/BXsh1ikAET-/', '/p/BXshtx6DzoL/', '/p/BXshsZ5n_Lw/', '/p/BXshj6pA1XT/', '/p/BXshhRCFcz-/', '/p/BXsheGxgnfh/', '/p/BXshdysHY33/', '/p/BXshbTwhw2z/', '/p/BXshY6PlBKh/', '/p/BXshTEigfrw/', '/p/BXshOfWjDC5/', '/p/BXshKBGFBFY/', '/p/BXshC1dlbab/', '/p/BXsg9vrjoew/', '/p/BXsg6NEgqaD/', '/p/BXsg4AHAG3m/', '/p/BXsgpaEAppQ/', '/p/BXsgoNXAdpN/', '/p/BXsglo6lP55/', '/p/BXsgk_EgZyt/', '/p/BXsgi6RgLG4/', '/p/BXsgg_fAH6O/', '/p/BXsgeAFBsm5/', '/p/BXsgacVAhRt/', '/p/BXsgaSGH9Bg/', '/p/BXsgXxvlDhD/', '/p/BXsgWkrg6LN/', '/p/BXsgRc5AMBi/', '/p/BXsgPKllLFZ/', '/p/BXsgJgal66C/', '/p/BXsgGg9jKto/', '/p/BXsgAykgIXZ/', '/p/BXsf-lDHAAd/', '/p/BXsf6-Kj8DX/', '/p/BXsf6r8gl6F/', '/p/BXsf1iTDcUa/', '/p/BXsf1k6haA5/', '/p/BXsf1RiDfoP/', '/p/BXsfxgdlnip/', '/p/BXsfv2jn_Dc/', '/p/BXsfsXrlcf3/', '/p/BXsfqYUlKlK/', '/p/BXsfptDj8EB/', '/p/BXsfo1ml-yV/', '/p/BXsfkgjlpA-/', '/p/BXsfjLXASad/', '/p/BXsfflmhhoj/', '/p/BXsffBpAgsP/', '/p/BXsfez3gWiG/', '/p/BXsfew9l_vg/', '/p/BXsfQYZgySH/', '/p/BXsfP1whgnD/', '/p/BXsfPqtniTY/', '/p/BXsfPfLArip/', '/p/BXsfN1KgClr/', '/p/BXsfLJ8gJb3/', '/p/BXsfKAshYNv/', '/p/BXsfJFGgN9_/', '/p/BXsfDenAeUe/', '/p/BXsfBBSFeAI/', '/p/BXse-q2h81o/', '/p/BXse94cDxDL/', '/p/BXse9luALpK/', '/p/BXse7RsDkAs/', '/p/BXse4H1AKU4/', '/p/BXsewHxBX5t/', '/p/BXseqbvFKlm/', '/p/BXsen2HBcv-/', '/p/BXsenZll3TF/', '/p/BXsemtKhRRe/', '/p/BXsemDlDMzI/', '/p/BXselduFjkJ/', '/p/BXsekRMH8VU/', '/p/BXseiMLFYjV/', '/p/BXsehLUjoCG/', '/p/BXseRXGgTby/', '/p/BXseObUl2wn/', '/p/BXseNzYgcKC/', '/p/BXseMqiAKBe/', '/p/BXseGiJgFQS/']\n"
     ]
    }
   ],
   "source": [
    "a_tag_list = []\n",
    "for container in containers:\n",
    "    try:\n",
    "        a_tag_list.append(str(container.a[\"href\"]))\n",
    "    except:\n",
    "        pass\n",
    "\n",
    "print(a_tag_list)\n",
    "# for container in containers:\n",
    "#     try:\n",
    "#         f.write(container.img[\"alt\"]+\"\\n--*--\\n\")\n",
    "#     except:\n",
    "#         pass\n"
   ]
  },
  {
   "cell_type": "code",
   "execution_count": 30,
   "metadata": {
    "collapsed": false,
    "scrolled": false
   },
   "outputs": [],
   "source": [
    "for url in a_tag_list[400:]:\n",
    "    try:\n",
    "        driver.get(\"https://www.instagram.com\" + url)\n",
    "#         print(url)\n",
    "        soup1 = BeautifulSoup(driver.page_source, \"lxml\")\n",
    "        result = soup1.find(\"time\",{\"class\":\"_p29ma _6g6t5\"})\n",
    "        wr = result[\"title\"]+\"\\n\"\n",
    "        f.write(wr)\n",
    "#         print(wr)\n",
    "    except:\n",
    "        pass\n",
    "#     time = driver.find_element_by_class_name('_p29ma _6g6t5')\n",
    "#     print (time.get_attribute('title'))\n",
    "\n",
    "f.close()"
   ]
  },
  {
   "cell_type": "code",
   "execution_count": null,
   "metadata": {
    "collapsed": true
   },
   "outputs": [],
   "source": []
  }
 ],
 "metadata": {
  "kernelspec": {
   "display_name": "Python 3",
   "language": "python",
   "name": "python3"
  },
  "language_info": {
   "codemirror_mode": {
    "name": "ipython",
    "version": 3
   },
   "file_extension": ".py",
   "mimetype": "text/x-python",
   "name": "python",
   "nbconvert_exporter": "python",
   "pygments_lexer": "ipython3",
   "version": "3.6.0"
  }
 },
 "nbformat": 4,
 "nbformat_minor": 2
}
