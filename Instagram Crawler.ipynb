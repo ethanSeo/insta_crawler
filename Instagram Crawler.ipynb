{
 "cells": [
  {
   "cell_type": "code",
   "execution_count": 56,
   "metadata": {
    "collapsed": true
   },
   "outputs": [],
   "source": [
    "filename = \"garosu_postcount.txt\"\n",
    "# filename = \"garosu_comment0.txt\"\n",
    "# filename = \"garosu_comment1.txt\"\n",
    "# filename = \"garosu_comment2.txt\"\n",
    "# filename = \"garosu_tag_comment0.txt\"\n",
    "\n",
    "# filename = \"itae_comment.txt\""
   ]
  },
  {
   "cell_type": "code",
   "execution_count": 57,
   "metadata": {
    "collapsed": false,
    "scrolled": true
   },
   "outputs": [],
   "source": [
    "from bs4 import BeautifulSoup\n",
    "import selenium.webdriver as webdriver\n",
    "import time\n",
    "import codecs\n",
    "\n",
    "#for get request\n",
    "#import request\n",
    "\n",
    "# Instagram as location result, **not hashtag**\n",
    "# url = 'http://www.instagram.com/explore/locations/266779631/' # @가로수길0\n",
    "url = 'http://www.instagram.com/explore/locations/698628497/' # @가로수길1\n",
    "# url = 'https://www.instagram.com/explore/locations/219016505/sinsa-station/'# @가로수길2\n",
    "# url = 'https://www.instagram.com/explore/tags/%EA%B0%80%EB%A1%9C%EC%88%98%EA%B8%B8/'\n",
    "\n",
    "# url = \"https://www.instagram.com/explore/locations/215188434/\" # 강남역\n",
    "\n",
    "# url = 'https://www.instagram.com/explore/locations/1009765122/' #이태원0\n",
    "# url = 'https://www.instagram.com/explore/locations/220945406/itaewon/' #이태원1\n",
    "# url = 'https://www.instagram.com/erin._.hi/'\n",
    "\n",
    "driver = webdriver.PhantomJS()\n",
    "# driver = webdriver.Chrome()\n",
    "driver.get(url)\n",
    "\n",
    "\n",
    "f = codecs.open(filename, \"w\", encoding='utf-8')\n"
   ]
  },
  {
   "cell_type": "code",
   "execution_count": null,
   "metadata": {
    "collapsed": false
   },
   "outputs": [],
   "source": [
    "clickin = driver.find_element_by_link_text('Load more') # find 'Load More' text button. \n",
    "\n",
    "clickin.click()"
   ]
  },
  {
   "cell_type": "code",
   "execution_count": null,
   "metadata": {
    "collapsed": false
   },
   "outputs": [],
   "source": [
    "scroll_counter = 0 # sets the amount of scroll downs\n",
    "\n",
    "\n",
    "while scroll_counter <= 90:\n",
    "    time.sleep(2.7) # time between scrolls (takes some time to instagram to load)\n",
    "    driver.execute_script(\n",
    "        \"window.scrollTo(0, document.body.scrollHeight)\"\n",
    "    ) # execute scroll\n",
    "    scroll_counter += 1 # add 1 to counter\n",
    "soup = BeautifulSoup(driver.page_source, \"lxml\")\n",
    "time.sleep(2.2)"
   ]
  },
  {
   "cell_type": "code",
   "execution_count": null,
   "metadata": {
    "collapsed": true
   },
   "outputs": [],
   "source": [
    "#_jjzlb 이거 바뀌었음. _2di5p로 바뀐 것 같은데 한번 확인. \n",
    "#_mck9w _gvoze _f2mse 이 클라스 안에 있는 \"a tag\"\n",
    "containers = soup.findAll(\"div\",{\"class\":\"_mck9w _gvoze _f2mse\"})"
   ]
  },
  {
   "cell_type": "code",
   "execution_count": null,
   "metadata": {
    "collapsed": false
   },
   "outputs": [],
   "source": [
    "a_tag_list = []\n",
    "for container in containers:\n",
    "    try:\n",
    "        a_tag_list.append(str(container.a[\"href\"]))\n",
    "    except:\n",
    "        pass\n",
    "\n",
    "print(a_tag_list)\n",
    "# for container in containers:\n",
    "#     try:\n",
    "#         f.write(container.img[\"alt\"]+\"\\n--*--\\n\")\n",
    "#     except:\n",
    "#         pass\n"
   ]
  },
  {
   "cell_type": "code",
   "execution_count": null,
   "metadata": {
    "collapsed": false,
    "scrolled": false
   },
   "outputs": [],
   "source": [
    "for url in a_tag_list:\n",
    "    try:\n",
    "        driver.get(\"https://www.instagram.com\" + url)\n",
    "#         print(url)\n",
    "        soup1 = BeautifulSoup(driver.page_source, \"lxml\")\n",
    "        result = soup1.find(\"time\",{\"class\":\"_p29ma _6g6t5\"})\n",
    "        f.write(result[\"title\"]+\"\\n\")\n",
    "    except:\n",
    "        pass\n",
    "#     time = driver.find_element_by_class_name('_p29ma _6g6t5')\n",
    "#     print (time.get_attribute('title'))\n",
    "\n",
    "f.close()"
   ]
  },
  {
   "cell_type": "code",
   "execution_count": null,
   "metadata": {
    "collapsed": true
   },
   "outputs": [],
   "source": []
  }
 ],
 "metadata": {
  "kernelspec": {
   "display_name": "Python 3",
   "language": "python",
   "name": "python3"
  },
  "language_info": {
   "codemirror_mode": {
    "name": "ipython",
    "version": 3
   },
   "file_extension": ".py",
   "mimetype": "text/x-python",
   "name": "python",
   "nbconvert_exporter": "python",
   "pygments_lexer": "ipython3",
   "version": "3.6.0"
  }
 },
 "nbformat": 4,
 "nbformat_minor": 2
}
